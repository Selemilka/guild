{
 "cells": [
  {
   "cell_type": "markdown",
   "metadata": {},
   "source": [
    "## Kucoin prices"
   ]
  },
  {
   "cell_type": "code",
   "execution_count": 3,
   "metadata": {},
   "outputs": [],
   "source": [
    "import requests\n",
    "import json"
   ]
  },
  {
   "cell_type": "code",
   "execution_count": 4,
   "metadata": {},
   "outputs": [],
   "source": [
    "# скачиваем прайс лист\n",
    "url = 'https://www.kucoin.com/_api/payment-api/pmtapi/v1/quotes?fiatCurrency=RUB&cryptoCurrency=USDT&quoteType=FIAT&source=WEB&side=BUY&platform=KUCOIN&lang=ru_RU'\n",
    "response = json.loads(requests.get(url).content)"
   ]
  },
  {
   "cell_type": "code",
   "execution_count": 5,
   "metadata": {},
   "outputs": [
    {
     "data": {
      "text/html": [
       "<table>\n",
       "    <thead>\n",
       "        <tr>\n",
       "            <th>Payment method</th>\n",
       "            <th>Price</th>\n",
       "        </tr>\n",
       "    </thead>\n",
       "    <tbody>\n",
       "        <tr>\n",
       "            <td>BANK</td>\n",
       "            <td>63.4</td>\n",
       "        </tr>\n",
       "        <tr>\n",
       "            <td>BANK_TRANSFER</td>\n",
       "            <td>63.4</td>\n",
       "        </tr>\n",
       "        <tr>\n",
       "            <td>OTHER</td>\n",
       "            <td>63.44</td>\n",
       "        </tr>\n",
       "        <tr>\n",
       "            <td>QIWI</td>\n",
       "            <td>65.75</td>\n",
       "        </tr>\n",
       "        <tr>\n",
       "            <td>PAYEER</td>\n",
       "            <td>63.44</td>\n",
       "        </tr>\n",
       "        <tr>\n",
       "            <td>ADVCASH</td>\n",
       "            <td>63.44</td>\n",
       "        </tr>\n",
       "        <tr>\n",
       "            <td>THIRD_PARTY</td>\n",
       "            <td>60.0810075</td>\n",
       "        </tr>\n",
       "    </tbody>\n",
       "</table>"
      ],
      "text/plain": [
       "+----------------+------------+\n",
       "| Payment method |   Price    |\n",
       "+----------------+------------+\n",
       "|      BANK      |    63.4    |\n",
       "| BANK_TRANSFER  |    63.4    |\n",
       "|     OTHER      |   63.44    |\n",
       "|      QIWI      |   65.75    |\n",
       "|     PAYEER     |   63.44    |\n",
       "|    ADVCASH     |   63.44    |\n",
       "|  THIRD_PARTY   | 60.0810075 |\n",
       "+----------------+------------+"
      ]
     },
     "execution_count": 5,
     "metadata": {},
     "output_type": "execute_result"
    }
   ],
   "source": [
    "# парсим прайс лист\n",
    "from prettytable import PrettyTable\n",
    "\n",
    "table = PrettyTable()\n",
    "table.field_names = [\"Payment method\", \"Price\"]\n",
    "\n",
    "for rate in response['data']['quotes']:\n",
    "    name = rate['commonOtcResponse']['payTypeCode'] if 'commonOtcResponse' in rate else rate['paymentType']\n",
    "    table.add_row([name, rate['price']])\n",
    "\n",
    "table"
   ]
  }
 ],
 "metadata": {
  "kernelspec": {
   "display_name": "Python 3.9.13 64-bit (microsoft store)",
   "language": "python",
   "name": "python3"
  },
  "language_info": {
   "codemirror_mode": {
    "name": "ipython",
    "version": 3
   },
   "file_extension": ".py",
   "mimetype": "text/x-python",
   "name": "python",
   "nbconvert_exporter": "python",
   "pygments_lexer": "ipython3",
   "version": "3.9.13"
  },
  "orig_nbformat": 4,
  "vscode": {
   "interpreter": {
    "hash": "a87352f2621e9f90e9329c97e278a3b6f7b24843c22384729a721a36de084550"
   }
  }
 },
 "nbformat": 4,
 "nbformat_minor": 2
}
